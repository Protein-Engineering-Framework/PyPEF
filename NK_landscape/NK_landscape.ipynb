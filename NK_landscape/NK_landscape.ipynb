{
 "cells": [
  {
   "cell_type": "markdown",
   "metadata": {},
   "source": [
    "Niklas E. Siedhoff<sup><em>1,§</em></sup>, Alexander-Maurice Illig<sup><em>1,§</em></sup>, Ulrich Schwaneberg<sup><em>1,2</em></sup>, Mehdi D. Davari<sup><em>1,*</em></sup>, <br>\n",
    "PyPEF – an Integrated Framework for Data-driven Protein Engineering, <em>Journal of Chemical Information and Modeling</em> (2021) <br>\n",
    "<sup><em>1</em></sup><sub>Institute of Biotechnology, RWTH Aachen University, Worringer Weg 3, 52074 Aachen, Germany</sub> <br>\n",
    "<sup><em>2</em></sup><sub>DWI-Leibniz Institute for Interactive Materials, Forckenbeckstraße 50, 52074 Aachen, Germany</sub> <br>\n",
    "<sup><em>*</em></sup><sub>Corresponding author</sub> <br>\n",
    "<sup><em>§</em></sup><sub>Equal contribution</sub> <br>"
   ]
  },
  {
   "cell_type": "markdown",
   "metadata": {},
   "source": [
    "# Can *in silico* directed evolution lead to improved variants?\n",
    "\n",
    "Within this notebook we investigate if highly improved variants can be efficiently found using the statistical approach presented in the paper, which is based on the Metropolis-Hastings algorithm. To verify this, a model for an NK landscape is generated. The data for the NK landscape was published by Adam C. Mater, Mahakaran Sandhu, and Colin Jackson and is available under https://doi.org/10.1101/2020.09.30.319780. This landscape is then traversed using the algorithm and improved variants are collected. Since the exact fitness value for each variant is known, it can be checked whether variants can be found that have a fitness close to the global maximum.\n",
    "\n",
    "Further, we make use of some tools presented in the above mentioned publication (https://github.com/acmater/NK_Benchmarking). These tools are licensed as follows:\n",
    "\n",
    "BSD 3-Clause License\n",
    "\n",
    "Copyright (c) 2020, Adam C. Mater\n",
    "All rights reserved.\n",
    "\n",
    "Redistribution and use in source and binary forms, with or without\n",
    "modification, are permitted provided that the following conditions are met:\n",
    "\n",
    "1. Redistributions of source code must retain the above copyright notice, this\n",
    "   list of conditions and the following disclaimer.\n",
    "\n",
    "2. Redistributions in binary form must reproduce the above copyright notice,\n",
    "   this list of conditions and the following disclaimer in the documentation\n",
    "   and/or other materials provided with the distribution.\n",
    "\n",
    "3. Neither the name of the copyright holder nor the names of its\n",
    "   contributors may be used to endorse or promote products derived from\n",
    "   this software without specific prior written permission.\n",
    "\n",
    "THIS SOFTWARE IS PROVIDED BY THE COPYRIGHT HOLDERS AND CONTRIBUTORS \"AS IS\"\n",
    "AND ANY EXPRESS OR IMPLIED WARRANTIES, INCLUDING, BUT NOT LIMITED TO, THE\n",
    "IMPLIED WARRANTIES OF MERCHANTABILITY AND FITNESS FOR A PARTICULAR PURPOSE ARE\n",
    "DISCLAIMED. IN NO EVENT SHALL THE COPYRIGHT HOLDER OR CONTRIBUTORS BE LIABLE\n",
    "FOR ANY DIRECT, INDIRECT, INCIDENTAL, SPECIAL, EXEMPLARY, OR CONSEQUENTIAL\n",
    "DAMAGES (INCLUDING, BUT NOT LIMITED TO, PROCUREMENT OF SUBSTITUTE GOODS OR\n",
    "SERVICES; LOSS OF USE, DATA, OR PROFITS; OR BUSINESS INTERRUPTION) HOWEVER\n",
    "CAUSED AND ON ANY THEORY OF LIABILITY, WHETHER IN CONTRACT, STRICT LIABILITY,\n",
    "OR TORT (INCLUDING NEGLIGENCE OR OTHERWISE) ARISING IN ANY WAY OUT OF THE USE\n",
    "OF THIS SOFTWARE, EVEN IF ADVISED OF THE POSSIBILITY OF SUCH DAMAGE."
   ]
  },
  {
   "cell_type": "code",
   "execution_count": 1,
   "metadata": {},
   "outputs": [],
   "source": [
    "import random\n",
    "import numpy as np\n",
    "import matplotlib.pyplot as plt\n",
    "from sklearn.metrics import r2_score\n",
    "from scipy.stats import pearsonr, spearmanr, norm\n",
    "from sklearn.ensemble import RandomForestRegressor\n",
    "from utils.landscape_class import Protein_Landscape\n",
    "\n",
    "def StackedArrays(arr):\n",
    "    \"\"\"\n",
    "    This function rearranges and splits the inputted array.\n",
    "    As a result, X and y are returned that can be used for\n",
    "    training or validating the model.\n",
    "    \"\"\"  \n",
    "    X, y = arr.T\n",
    "    \n",
    "    return np.vstack(X), np.reshape(y, y.shape[0])\n",
    "\n",
    "def GetXy(landscape):\n",
    "    \"\"\"\n",
    "    This function takes in an NK landscape and returns\n",
    "    the arrays that are necessary for generating and \n",
    "    validating a model.\n",
    "    \"\"\"\n",
    "    \n",
    "    X = landscape.tokenize_data()\n",
    "    Y = landscape.data.T[1]\n",
    "    boolians = landscape.boolean_mutant_array()\n",
    "    \n",
    "    variants = [[] for _ in range(6)]\n",
    "    for x, y, boolian in zip(X, Y, boolians):\n",
    "        substitutional_degree = 0\n",
    "        for b in boolian:\n",
    "            if b:\n",
    "                substitutional_degree += 1\n",
    "        variants[substitutional_degree].append([x, y])\n",
    "\n",
    "    # Learn on up to triple substituted variants\n",
    "    train_set = np.vstack(variants[0:4])\n",
    "    \n",
    "    # Test performance when predicting quadruple, quintuple substituted variants\n",
    "    test_set = np.vstack(variants[4:])\n",
    "    \n",
    "    # Get X and y from the datasets\n",
    "    X_train, y_train = StackedArrays(train_set)\n",
    "    X_test, y_test = StackedArrays(test_set)\n",
    "    \n",
    "    return X_train, y_train, X_test, y_test\n",
    "\n",
    "def Substitute(seq):\n",
    "    \"\"\"\n",
    "    This function introduces randomly one substitution\n",
    "    into the sequence of length 5 from the character\n",
    "    pool 0-9. The variant with the respective substitution\n",
    "    is returned.\n",
    "    \"\"\"\n",
    "    var = seq.copy()\n",
    "    pos = np.random.randint(5)\n",
    "    aa = np.random.randint(10)\n",
    "    var[pos] = aa\n",
    "    \n",
    "    return var\n",
    "\n",
    "def Accept(seq, var):\n",
    "    \"\"\"\n",
    "    This function allows to perform in silico DE\n",
    "    by using the Metropolis-Hastings criterion.\n",
    "    It takes a sequence and a variant as input and\n",
    "    returns a boolian that can be used to decide,\n",
    "    whether the variant, i.e., introduced substitution,\n",
    "    is accept or not.\n",
    "    \"\"\"\n",
    "    seq_fit = regr.predict([seq])\n",
    "    var_fit = regr.predict([var])\n",
    "        \n",
    "    if var_fit >= seq_fit:\n",
    "        return True\n",
    "    \n",
    "    else:\n",
    "        # \"Temperature\"; can be adjusted\n",
    "        T = 1e-2\n",
    "               \n",
    "        boltz = np.exp(((var_fit - seq_fit) / T), dtype=np.longfloat)\n",
    "        p = min(1, boltz)\n",
    "        \n",
    "        rand_var = random.random()\n",
    "        if rand_var < p:\n",
    "            return True\n",
    "        else:\n",
    "            return False"
   ]
  },
  {
   "cell_type": "markdown",
   "metadata": {},
   "source": [
    "## Importing and Pre-Processing the Data\n",
    "\n",
    "At first, the data of the NK landscape provided in the '.txt' files need to be loaded. Then, the $10^5$ \"sequence-fitness\" pairs are either assigned to the training or validation set."
   ]
  },
  {
   "cell_type": "code",
   "execution_count": 2,
   "metadata": {},
   "outputs": [
    {
     "name": "stdout",
     "output_type": "stream",
     "text": [
      "K0/V0.txt\n",
      "K0/V1.txt\n",
      "K0/V2.txt\n",
      "K0/V3.txt\n",
      "K0/V4.txt\n",
      "Found 100000 sequence-fitness pairs.\n",
      "Maximum fitness value: 0.90, minimum fitness value: 0.07\n"
     ]
    }
   ],
   "source": [
    "saved_nk_landscapes = {\"NK-{}\".format(x) : [Protein_Landscape(saved_file=\"K0/V{1}.txt\".format(x,y)) for y in range(5)] for x in range(1)}\n",
    "landscape = saved_nk_landscapes[\"NK-0\"][0] # select the first landscape\n",
    "fitness_dict = {str(k):v for k,v in zip(landscape.tokenize_data(), landscape.data.T[1])} #\n",
    "fitness_values = np.fromiter(fitness_dict.values(), dtype=float)\n",
    "X_train, y_train, X_test, y_test = GetXy(landscape)\n",
    "\n",
    "print(\"Found %d sequence-fitness pairs.\"%(y_train.shape[0]+y_test.shape[0]))\n",
    "print(\"Maximum fitness value: %.2f, minimum fitness value: %.2f\"%(np.max(fitness_values), np.min(fitness_values)))"
   ]
  },
  {
   "cell_type": "code",
   "execution_count": 3,
   "metadata": {},
   "outputs": [
    {
     "data": {
      "image/png": "[encoded data removed]",
      "text/plain": [
       "<Figure size 432x288 with 1 Axes>"
      ]
     },
     "metadata": {
      "needs_background": "light"
     },
     "output_type": "display_data"
    }
   ],
   "source": [
    "mean, std = norm.fit(fitness_values)\n",
    "x = np.linspace(0, 1, 100)\n",
    "y = norm.pdf(x, mean, std)\n",
    "plt.plot(x, y)\n",
    "plt.hist(fitness_values, density=True, bins=80)\n",
    "plt.xlabel(\"Fitness value\")\n",
    "plt.ylabel(\"Frequency\")\n",
    "plt.show()"
   ]
  },
  {
   "cell_type": "code",
   "execution_count": 4,
   "metadata": {},
   "outputs": [],
   "source": [
    "def Integral(x):\n",
    "    y_all, x_all = np.histogram(fitness_values, bins=80, density=True)\n",
    "    \n",
    "    summe = 0.0\n",
    "    for xi, yi in zip(x_all, y_all):\n",
    "        if x >= xi:\n",
    "            summe+=yi\n",
    "        else:\n",
    "            break\n",
    "    \n",
    "    return summe"
   ]
  },
  {
   "cell_type": "markdown",
   "metadata": {},
   "source": [
    "## Generating a Predictive Model for the NK Landscape\n",
    "\n",
    "Initialize and train regressor, e.g., random forest regressor. Further, determine performance of model."
   ]
  },
  {
   "cell_type": "code",
   "execution_count": 5,
   "metadata": {},
   "outputs": [
    {
     "name": "stdout",
     "output_type": "stream",
     "text": [
      "RF model achieved an R2 of 0.78, an Spearman's p of 0.91, and a Pearson's r of 0.91\n"
     ]
    }
   ],
   "source": [
    "regr = RandomForestRegressor(max_depth=100, n_estimators=1000, random_state=0)\n",
    "regr.fit(X_train, y_train)\n",
    "y_pred = regr.predict(X_test)\n",
    "\n",
    "print(\"RF model achieved an R2 of %.2f, an Spearman's p of %.2f, and a Pearson's r of %.2f\"%(r2_score(y_test, y_pred), spearmanr(y_test, y_pred)[0], pearsonr(y_test, y_pred)[0]))"
   ]
  },
  {
   "cell_type": "markdown",
   "metadata": {},
   "source": [
    "## *In silico* Directed Evolution\n",
    "Perform *in silico* directed evolution as described in the paper. Stop when at least 10 steps were accepted."
   ]
  },
  {
   "cell_type": "code",
   "execution_count": 6,
   "metadata": {},
   "outputs": [
    {
     "name": "stdout",
     "output_type": "stream",
     "text": [
      "Fitness: 0.77, Within top: 5.14e-02\n",
      "Fitness: 0.79, Within top: 4.82e-02\n",
      "Fitness: 0.68, Within top: 1.29e-01\n",
      "Fitness: 0.75, Within top: 6.00e-02\n",
      "Fitness: 0.84, Within top: 4.10e-02\n",
      "Fitness: 0.77, Within top: 5.53e-02\n",
      "Fitness: 0.65, Within top: 1.63e-01\n",
      "Fitness: 0.73, Within top: 7.33e-02\n",
      "Fitness: 0.79, Within top: 4.82e-02\n",
      "Fitness: 0.83, Within top: 4.17e-02\n",
      "Fitness: 0.72, Within top: 8.14e-02\n",
      "Fitness: 0.73, Within top: 7.33e-02\n",
      "Fitness: 0.81, Within top: 4.39e-02\n",
      "Fitness: 0.80, Within top: 4.39e-02\n",
      "Fitness: 0.82, Within top: 4.17e-02\n",
      "Fitness: 0.74, Within top: 6.61e-02\n",
      "Fitness: 0.80, Within top: 4.39e-02\n",
      "Fitness: 0.69, Within top: 1.15e-01\n",
      "Fitness: 0.70, Within top: 1.02e-01\n",
      "Fitness: 0.84, Within top: 4.10e-02\n"
     ]
    }
   ],
   "source": [
    "for _ in range(20): # 20 different runs\n",
    "    \n",
    "    ys = []\n",
    "    seq = np.random.randint(10, size=5)\n",
    "    ys.append(regr.predict([seq]))\n",
    "\n",
    "    accepted = 1\n",
    "    while accepted <= 10:\n",
    "        var = Substitute(seq)\n",
    "        if Accept(seq, var):\n",
    "            seq = var\n",
    "            ys.append(regr.predict([seq]))\n",
    "            accepted += 1\n",
    "    fitness = fitness_dict[str(np.array(seq))]\n",
    "    print(\"Fitness: %.2f, Within top: %.2e\"%(fitness, 0.01*(100-Integral(fitness))))"
   ]
  }
 ],
 "metadata": {
  "kernelspec": {
   "display_name": "Python 3",
   "language": "python",
   "name": "python3"
  },
  "language_info": {
   "codemirror_mode": {
    "name": "ipython",
    "version": 3
   },
   "file_extension": ".py",
   "mimetype": "text/x-python",
   "name": "python",
   "nbconvert_exporter": "python",
   "pygments_lexer": "ipython3",
   "version": "3.8.8"
  }
 },
 "nbformat": 4,
 "nbformat_minor": 2
}
