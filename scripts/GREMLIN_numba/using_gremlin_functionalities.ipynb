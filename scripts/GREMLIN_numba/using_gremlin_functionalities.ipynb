{
 "cells": [
  {
   "cell_type": "markdown",
   "id": "64ae8419",
   "metadata": {},
   "source": [
    "### Maximization of MSA sequence probability using L-BFGS (and CG) \n",
    "Port of GREMLIN_CPP (https://github.com/sokrypton/GREMLIN_CPP) using Python and numba."
   ]
  },
  {
   "cell_type": "code",
   "execution_count": 1,
   "id": "4274632d",
   "metadata": {},
   "outputs": [],
   "source": [
    "import numpy as np\n",
    "import pandas as pd\n",
    "from scipy.stats import spearmanr"
   ]
  },
  {
   "cell_type": "code",
   "execution_count": 2,
   "id": "cd9f9db9",
   "metadata": {},
   "outputs": [],
   "source": [
    "# Local .py file imports\n",
    "from gremlin_inference_numba import (\n",
    "    get_sequences_from_file, seqs2int, filt_gaps, lbfgs, cg, get_seqs_from_var_name,\n",
    "    eval_v, eval_vw, oh_1bd_predict, oh_2bd_predict, aa_count_predict\n",
    ")"
   ]
  },
  {
   "cell_type": "markdown",
   "id": "3df7d2d4",
   "metadata": {},
   "source": [
    "Loading MSA sequences, converting alphabetical amino acid sequences to seuqences of integer values, and trimming MSA."
   ]
  },
  {
   "cell_type": "code",
   "execution_count": 3,
   "id": "3cb55570",
   "metadata": {},
   "outputs": [
    {
     "name": "stdout",
     "output_type": "stream",
     "text": [
      "['mskgeELFTGVVPILVELDGDVNGHKFSVSGEGEGDATYGKLTLKFICTTGKLPVPWPTLVTTLSYGVQCFSRYPDHMKqhDFFKSAMPEGYVQERTIFFKDDGNYKTRAEVKFEGDTLVNRIELKGIDFKEDGNILGHKLEYNYNSHNVYIMadkqKNGIKVNFKIRHNIEDGSVQLADHyqQNTPIGDGPVLLPDNHYLSTQSALSKDpNEKRDHMVLLEFVTAAGithgmdelyk'\n",
      " 'metgrALFSKPMTCQTEIDGEINGNKFKVVGNGDS-PGGGDFSIHAYCTTGELPMSWVVLGSPLQYGFHMFSGYPDDII..HYFQECFPEGYILTRSLRFEYDGTLTTTHHYSLEGNCVKAKVTLKGEGFDPNGPTMTKEEEQHPSQVQIFPH....GSGIRLLSNVVFKKKDGTTQLALQdcSVKPLGSRDVPLPNVHFLRTQIIQKKDdSDKRDHVVQREIAIAEH..........'\n",
      " '..rgrALFSNSMTSKTEIDGEINGKKFKVVGEGDS-PGGGDFTIRAYCTTGELPMSWVVMGSPLQYGFHMLSHYPDDIV..HYFQECFPEGYTLTRKLRFEGDGTLTTHHRYELAGTCVKAKVSLTGESFDPSGPTMTKTVEQLPNQVQVFPH....ADGIRLLSDVVFVKNDGTTQIAHQdcSVKPLATRKITLPRFHFLHTQISQWKDrSDKRDHVVQREVSKAE-..........'\n",
      " ...\n",
      " 'mersaSFFTGTAKSKVIAEIMVDDTEYKVSGEGFACPLEGHQTLELHCSGKAMSINWSILGTIIQSNFKLFTQYTGSCV.yDFFKTSFPGGLKVETTASFSDGAVIRGNSSLTYVKDTVICRCNIQCEGFCEESPARARDLGQTLPCYEVIEG..ykADEVTCTMDLEWNDSDKQKYLCRLesSFVSGGTGNF-APPRHFIGHHFKITDK.SPNNLHFAQRCKSRANRi.........'\n",
      " 'mersiSLFTGTAKSKVIATVKIDDMEYTITGEGFACPTEGQQNLELHCSGSALPINWCILGTIIQCNFKLFTQYKGSNE.yDFFKTSFPGGLKVEYVGSFVDGAEVSGNSTMSYVKDTVICRCSIQCKGFSEESPARAHDLGQTLTCYEVVEG..lrADEVTSQVSLEWLDGYNQKYACRLnsSVKSSGSQGNFSPSRHFIGHHFKVTDK.SPNNLHFAQRLKSRACSi.........'\n",
      " 'mersiSLFTGTAKSKVIATVKIDDMEYTITGEGFACPTEGNQNLELHCSGTALPINWCILGTIIQCNFKLFTQYKGSNE.yDFFKTSFPGGLKVEYVGSFVDGAEVSGNSTMSYVKDTVICRCSIQCKGFSEESPARAHDLGQTLTCYEVVEG..lrADEVTSQVTLEWLDGYNQKYACRLnsSVKSSGSQGNFSPSRHFIGHHFKVTDK.SPNNLHFAQRLKSRACSi.........']\n",
      "[[12 15 11 ... 10 18 11]\n",
      " [12  6 16 ... 20 20 20]\n",
      " [20 20  1 ... 20 20 20]\n",
      " ...\n",
      " [12  6  1 ... 20 20 20]\n",
      " [12  6  1 ... 20 20 20]\n",
      " [12  6  1 ... 20 20 20]]\n",
      "(1046, 238)\n",
      "[[11  7  6 ...  0  0  7]\n",
      " [16  7  1 ...  0  6  8]\n",
      " [ 1  7  1 ...  0  6 20]\n",
      " ...\n",
      " [ 1 15  0 ...  0  2  1]\n",
      " [ 1 15  9 ...  0  4 15]\n",
      " [ 1 15  9 ...  0  4 15]]\n",
      "(1046, 220)\n"
     ]
    }
   ],
   "source": [
    "alignment = '../../workflow/test_dataset_avgfp/uref100_avgfp_jhmmer_119.a2m'\n",
    "msa, *_ = get_sequences_from_file(alignment)\n",
    "print(msa)\n",
    "msa_int = seqs2int(msa)\n",
    "print(msa_int)\n",
    "print(msa_int.shape)\n",
    "msa_trimmed, gaps = filt_gaps(msa_int)\n",
    "print(msa_trimmed)\n",
    "print(msa_trimmed.shape)"
   ]
  },
  {
   "cell_type": "markdown",
   "id": "7f7083fa",
   "metadata": {},
   "source": [
    "Optimization of MSA probability using L-BFGS and CG."
   ]
  },
  {
   "cell_type": "code",
   "execution_count": 4,
   "id": "8cf645de",
   "metadata": {},
   "outputs": [
    {
     "name": "stdout",
     "output_type": "stream",
     "text": [
      "lbfgs::iter S_S fx:  107388.27079431039 gnorm: 1225.1515293096882\n",
      "10 / 100  :  60609.63108277181\n",
      "20 / 100  :  59947.64281511534\n",
      "30 / 100  :  59869.53178623354\n",
      "40 / 100  :  59859.941731911356\n",
      "50 / 100  :  59857.879720644436\n",
      "60 / 100  :  59857.31594100573\n",
      "70 / 100  :  59857.15028889863\n",
      "80 / 100  :  59857.09504682756\n",
      "90 / 100  :  59857.08003258002\n",
      "100 / 100  :  59857.07454351859\n",
      "lbfgs::iter S_S fx:  107388.27079430803 gnorm: 15388.644842127675\n",
      "10 / 100  :  31533.55176383793\n",
      "20 / 100  :  31060.84534749837\n",
      "30 / 100  :  28888.573386249183\n",
      "40 / 100  :  28396.431248611527\n",
      "50 / 100  :  28342.800784800973\n",
      "60 / 100  :  28254.50087272058\n",
      "70 / 100  :  28227.888482528473\n",
      "80 / 100  :  28188.92690343361\n",
      "90 / 100  :  28171.676017789905\n",
      "100 / 100  :  28158.183075984813\n",
      "# cg::iter S_S fx:  107388.27079431039  gnorm:  1225.15152930969\n",
      "10 / 100  :  95195.27951793215\n",
      "20 / 100  :  83096.38618130801\n",
      "30 / 100  :  71395.61723248461\n",
      "40 / 100  :  67400.86027747851\n",
      "50 / 100  :  66669.79690088452\n",
      "60 / 100  :  65910.63369043467\n",
      "70 / 100  :  65151.95901760452\n",
      "80 / 100  :  64395.652024425486\n",
      "90 / 100  :  63644.68778084792\n",
      "100 / 100  :  62911.661334753415\n",
      "# cg::iter S_S fx:  107388.27079430803  gnorm:  15388.644842126007\n",
      "10 / 100  :  35864.91179731878\n",
      "20 / 100  :  31408.292000635145\n",
      "30 / 100  :  31130.30687731922\n",
      "40 / 100  :  31071.685376873065\n",
      "50 / 100  :  31003.20159049482\n",
      "60 / 100  :  30932.300252526038\n",
      "70 / 100  :  30859.601343470487\n",
      "80 / 100  :  30785.998696509025\n",
      "90 / 100  :  30712.083040509264\n",
      "100 / 100  :  30637.811822276144\n"
     ]
    }
   ],
   "source": [
    "# Limited-memory Broyden–Fletcher–Goldfarb–Shanno (L-BFGS) algorithm\n",
    "x_opt_1bd = lbfgs(msa_trimmed, eval_v, mode='v', max_iter=100)\n",
    "x_opt_2bd = lbfgs(msa_trimmed, eval_vw, mode='vw', max_iter=100)\n",
    "# Conjugate Gradient (CG) method\n",
    "x_opt_1bd_cg = cg(msa_trimmed, eval_v, mode='v', max_iter=100)\n",
    "x_opt_2bd_cg = cg(msa_trimmed, eval_vw, mode='vw', max_iter=100)"
   ]
  },
  {
   "cell_type": "markdown",
   "id": "7477db54",
   "metadata": {},
   "source": [
    "Loading collected literature sequences, converting to integer sequences, and trimming sequences, to predict fitness and compare to true measured fitness later."
   ]
  },
  {
   "cell_type": "code",
   "execution_count": 5,
   "id": "54954ad2",
   "metadata": {},
   "outputs": [],
   "source": [
    "wt_sequence = 'MSKGEELFTGVVPILVELDGDVNGHKFSVSGEGEGDATYGKLTLKFICTTGKLPVPWPTL' \\\n",
    "              'VTTLSYGVQCFSRYPDHMKQHDFFKSAMPEGYVQERTIFFKDDGNYKTRAEVKFEGDTLV' \\\n",
    "              'NRIELKGIDFKEDGNILGHKLEYNYNSHNVYIMADKQKNGIKVNFKIRHNIEDGSVQLAD' \\\n",
    "              'HYQQNTPIGDGPVLLPDNHYLSTQSALSKDPNEKRDHMVLLEFVTAAGITHGMDELYK'\n",
    "variant_fitness_data = pd.read_csv('../../workflow/test_dataset_avgfp/avgfp.csv', sep=';')\n",
    "variants = variant_fitness_data.iloc[:2000, 0].values  # \"just\" using 2000 variants for faster processing\n",
    "fitness_values = variant_fitness_data.iloc[:2000, 1].values\n",
    "variants_split = []\n",
    "for variant in variants:\n",
    "    variants_split.append(variant.split('/'))\n",
    "variants, fitness_values, sequences = get_seqs_from_var_name(wt_sequence, variants_split, fitness_values)\n",
    "sequences_int = seqs2int(sequences)\n",
    "sequences_int_trimmed = np.delete(sequences_int, gaps, axis=1)"
   ]
  },
  {
   "cell_type": "markdown",
   "id": "66dc4b88",
   "metadata": {},
   "source": [
    "L-BFGS optimization: Rank correlation of measured and predicted sequence fitness."
   ]
  },
  {
   "cell_type": "code",
   "execution_count": 6,
   "id": "1119ebba",
   "metadata": {},
   "outputs": [
    {
     "name": "stdout",
     "output_type": "stream",
     "text": [
      "AA counts:         SignificanceResult(statistic=0.5029247668771557, pvalue=1.0850574512849578e-128)\n",
      "1-body term (V):   SignificanceResult(statistic=0.6585532465117758, pvalue=5.395952272751471e-249)\n",
      "2-body term (VW):  SignificanceResult(statistic=0.718349826225515, pvalue=3.4027793e-317)\n"
     ]
    }
   ],
   "source": [
    "y_pred_1bd = oh_1bd_predict(sequences_int_trimmed, x_opt_1bd)\n",
    "y_pred_2bd = oh_2bd_predict(sequences_int_trimmed, x_opt_2bd)\n",
    "y_pred_aac = aa_count_predict(msa_trimmed, sequences_int_trimmed)\n",
    "\n",
    "# 1D-sequence encodings for further machine learning tasks\n",
    "#x_pred_1bd = oh_1bd_1d_encode(sequences_int_trimmed, x_opt_1bd)\n",
    "#x_pred_2bd = oh_2bd_1d_encode(sequences_int_trimmed, x_opt_2bd)\n",
    "\n",
    "print(f\"{'AA counts:':<18}\", spearmanr(fitness_values, y_pred_aac))\n",
    "print(f\"{'1-body term (V):':<18}\", spearmanr(fitness_values, y_pred_1bd))\n",
    "print(f\"{'2-body term (VW):':<18}\", spearmanr(fitness_values, y_pred_2bd))"
   ]
  },
  {
   "cell_type": "markdown",
   "id": "61fab7bc",
   "metadata": {},
   "source": [
    "CG optimization: Rank correlation of measured and predicted sequence fitness."
   ]
  },
  {
   "cell_type": "code",
   "execution_count": 7,
   "id": "3cb353d5",
   "metadata": {},
   "outputs": [
    {
     "name": "stdout",
     "output_type": "stream",
     "text": [
      "AA counts:         SignificanceResult(statistic=0.5029247668771557, pvalue=1.0850574512849578e-128)\n",
      "1-body term (V):   SignificanceResult(statistic=0.5459010681666135, pvalue=9.995612748011931e-156)\n",
      "2-body term (VW):  SignificanceResult(statistic=0.6943000690360119, pvalue=9.57615754836693e-288)\n"
     ]
    }
   ],
   "source": [
    "y_pred_1bd = oh_1bd_predict(sequences_int_trimmed, x_opt_1bd_cg)\n",
    "y_pred_2bd = oh_2bd_predict(sequences_int_trimmed, x_opt_2bd_cg)\n",
    "y_pred_aac = aa_count_predict(msa_trimmed, sequences_int_trimmed)\n",
    "\n",
    "# 1D-sequence encodings for further machine learning tasks\n",
    "#x_pred_1bd = oh_1bd_1d_encode(sequences_int_trimmed, x_opt_1bd)\n",
    "#x_pred_2bd = oh_2bd_1d_encode(sequences_int_trimmed, x_opt_2bd)\n",
    "\n",
    "print(f\"{'AA counts:':<18}\", spearmanr(fitness_values, y_pred_aac))\n",
    "print(f\"{'1-body term (V):':<18}\", spearmanr(fitness_values, y_pred_1bd))\n",
    "print(f\"{'2-body term (VW):':<18}\", spearmanr(fitness_values, y_pred_2bd))"
   ]
  },
  {
   "cell_type": "markdown",
   "id": "a7249221",
   "metadata": {},
   "source": [
    "Notebook end."
   ]
  }
 ],
 "metadata": {
  "kernelspec": {
   "display_name": "pypef_dev",
   "language": "python",
   "name": "pypef_dev"
  },
  "language_info": {
   "codemirror_mode": {
    "name": "ipython",
    "version": 3
   },
   "file_extension": ".py",
   "mimetype": "text/x-python",
   "name": "python",
   "nbconvert_exporter": "python",
   "pygments_lexer": "ipython3",
   "version": "3.10.12"
  }
 },
 "nbformat": 4,
 "nbformat_minor": 5
}
